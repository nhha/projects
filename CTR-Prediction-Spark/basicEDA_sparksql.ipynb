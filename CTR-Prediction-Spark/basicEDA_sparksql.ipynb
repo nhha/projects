{
 "cells": [
  {
   "cell_type": "code",
   "execution_count": null,
   "metadata": {},
   "outputs": [],
   "source": [
    "#! pyspark --packages org.mongodb.spark:mongo-spark-connector_2.10:2.2.1"
   ]
  },
  {
   "cell_type": "markdown",
   "metadata": {},
   "source": [
    "### Load data from mongodb"
   ]
  },
  {
   "cell_type": "code",
   "execution_count": 1,
   "metadata": {},
   "outputs": [],
   "source": [
    "data = spark.read.format(\"com.mongodb.spark.sql.DefaultSource\")\\\n",
    "            .option(\"uri\",\"mongodb://34.210.118.215/gameofspark.train\").load()"
   ]
  },
  {
   "cell_type": "code",
   "execution_count": 2,
   "metadata": {},
   "outputs": [
    {
     "data": {
      "text/html": [
       "\n",
       "        <div>\n",
       "            <p><b>SparkContext</b></p>\n",
       "\n",
       "            <p><a href=\"http://10.0.0.83:4040\">Spark UI</a></p>\n",
       "\n",
       "            <dl>\n",
       "              <dt>Version</dt>\n",
       "                <dd><code>v2.2.0</code></dd>\n",
       "              <dt>Master</dt>\n",
       "                <dd><code>local[*]</code></dd>\n",
       "              <dt>AppName</dt>\n",
       "                <dd><code>PySparkShell</code></dd>\n",
       "            </dl>\n",
       "        </div>\n",
       "        "
      ],
      "text/plain": [
       "<SparkContext master=local[*] appName=PySparkShell>"
      ]
     },
     "execution_count": 2,
     "metadata": {},
     "output_type": "execute_result"
    }
   ],
   "source": [
    "sc"
   ]
  },
  {
   "cell_type": "markdown",
   "metadata": {},
   "source": [
    "### basic EDA"
   ]
  },
  {
   "cell_type": "code",
   "execution_count": 2,
   "metadata": {},
   "outputs": [
    {
     "data": {
      "text/plain": [
       "250"
      ]
     },
     "execution_count": 2,
     "metadata": {},
     "output_type": "execute_result"
    }
   ],
   "source": [
    "data.rdd.getNumPartitions()"
   ]
  },
  {
   "cell_type": "code",
   "execution_count": 3,
   "metadata": {},
   "outputs": [
    {
     "name": "stdout",
     "output_type": "stream",
     "text": [
      "root\n",
      " |-- C1: integer (nullable = true)\n",
      " |-- C14: integer (nullable = true)\n",
      " |-- C15: integer (nullable = true)\n",
      " |-- C16: integer (nullable = true)\n",
      " |-- C17: integer (nullable = true)\n",
      " |-- C18: integer (nullable = true)\n",
      " |-- C19: integer (nullable = true)\n",
      " |-- C20: integer (nullable = true)\n",
      " |-- C21: integer (nullable = true)\n",
      " |-- _id: struct (nullable = true)\n",
      " |    |-- oid: string (nullable = true)\n",
      " |-- app_category: string (nullable = true)\n",
      " |-- app_domain: string (nullable = true)\n",
      " |-- app_id: string (nullable = true)\n",
      " |-- banner_pos: integer (nullable = true)\n",
      " |-- click: integer (nullable = true)\n",
      " |-- device_conn_type: integer (nullable = true)\n",
      " |-- device_id: string (nullable = true)\n",
      " |-- device_ip: string (nullable = true)\n",
      " |-- device_model: string (nullable = true)\n",
      " |-- device_type: integer (nullable = true)\n",
      " |-- hour: integer (nullable = true)\n",
      " |-- id: double (nullable = true)\n",
      " |-- site_category: string (nullable = true)\n",
      " |-- site_domain: string (nullable = true)\n",
      " |-- site_id: string (nullable = true)\n",
      "\n"
     ]
    }
   ],
   "source": [
    "data.printSchema()"
   ]
  },
  {
   "cell_type": "code",
   "execution_count": 4,
   "metadata": {},
   "outputs": [
    {
     "name": "stdout",
     "output_type": "stream",
     "text": [
      "+----+-----+---+---+----+---+---+------+---+--------------------+------------+----------+--------+----------+-----+----------------+---------+---------+------------+-----------+--------+--------------------+-------------+-----------+--------+\n",
      "|  C1|  C14|C15|C16| C17|C18|C19|   C20|C21|                 _id|app_category|app_domain|  app_id|banner_pos|click|device_conn_type|device_id|device_ip|device_model|device_type|    hour|                  id|site_category|site_domain| site_id|\n",
      "+----+-----+---+---+----+---+---+------+---+--------------------+------------+----------+--------+----------+-----+----------------+---------+---------+------------+-----------+--------+--------------------+-------------+-----------+--------+\n",
      "|1005|15706|320| 50|1722|  0| 35|100084| 79|[5a594db4e29072a6...|    07d7df22|  7801e8d9|ecad2386|         0|    0|               0| a99f214a| e8275b8f|    6332421a|          1|14102100|1.000064072448083...|     28905ebd|   f3845767|1fbe01fe|\n",
      "|1005|18993|320| 50|2161|  0| 35|    -1|157|[5a594db4e29072a6...|    07d7df22|  7801e8d9|ecad2386|         1|    0|               0| a99f214a| 9644d0bf|    779d90c2|          1|14102100|1.000067905641704...|     0569f928|   9166c161|fe8cc448|\n",
      "|1005|16920|320| 50|1899|  0|431|100077|117|[5a594db4e29072a6...|    07d7df22|  7801e8d9|ecad2386|         0|    0|               0| a99f214a| 05241af0|    8a4875bd|          1|14102100|1.000072075780110...|     f028772b|   bb1ef334|d6137915|\n",
      "|1005|15704|320| 50|1722|  0| 35|100084| 79|[5a594db4e29072a6...|    07d7df22|  7801e8d9|ecad2386|         0|    0|               0| a99f214a| 96809ac8|    711ee120|          1|14102100|1.000016934911786...|     28905ebd|   f3845767|1fbe01fe|\n",
      "|1005|20362|320| 50|2333|  0| 39|    -1|157|[5a594db4e29072a6...|    07d7df22|  7801e8d9|ecad2386|         0|    0|               0| a99f214a| b264c159|    be6db1d7|          1|14102100|1.000072472998854...|     f028772b|   25d4cfcd|8fda644b|\n",
      "+----+-----+---+---+----+---+---+------+---+--------------------+------------+----------+--------+----------+-----+----------------+---------+---------+------------+-----------+--------+--------------------+-------------+-----------+--------+\n",
      "only showing top 5 rows\n",
      "\n"
     ]
    }
   ],
   "source": [
    "data.show(5)"
   ]
  },
  {
   "cell_type": "code",
   "execution_count": 3,
   "metadata": {},
   "outputs": [
    {
     "name": "stdout",
     "output_type": "stream",
     "text": [
      "+-----+--------+\n",
      "|click|   count|\n",
      "+-----+--------+\n",
      "|    1| 6865066|\n",
      "|    0|33563901|\n",
      "+-----+--------+\n",
      "\n"
     ]
    }
   ],
   "source": [
    "data.groupBy(data['click']).count().show()"
   ]
  },
  {
   "cell_type": "code",
   "execution_count": 4,
   "metadata": {},
   "outputs": [
    {
     "name": "stdout",
     "output_type": "stream",
     "text": [
      "+--------+------+\n",
      "|    hour| count|\n",
      "+--------+------+\n",
      "|14102412|188407|\n",
      "|14102405|168185|\n",
      "|14102514|242500|\n",
      "|14102712|166229|\n",
      "|14102804|140573|\n",
      "|14102823|113551|\n",
      "|14102323| 90232|\n",
      "|14102913|193327|\n",
      "|14102211|386757|\n",
      "|14102501| 80637|\n",
      "|14102121| 89501|\n",
      "|14103013|250441|\n",
      "|14102505|117207|\n",
      "|14102821|166216|\n",
      "|14102303|175094|\n",
      "|14102608|188781|\n",
      "|14102922| 90365|\n",
      "|14103012|249022|\n",
      "|14102311|161494|\n",
      "|14102921| 95752|\n",
      "+--------+------+\n",
      "only showing top 20 rows\n",
      "\n"
     ]
    }
   ],
   "source": [
    "data.groupBy(data['hour']).count().show()"
   ]
  },
  {
   "cell_type": "markdown",
   "metadata": {},
   "source": [
    "hour is in ***yymmddhh*** format <br>\n",
    "**need to extract the last two digits, perhaps other timestamp info (eg. weekday/weekend)**"
   ]
  },
  {
   "cell_type": "code",
   "execution_count": 20,
   "metadata": {},
   "outputs": [
    {
     "name": "stdout",
     "output_type": "stream",
     "text": [
      "C1 :\t7\n",
      "C14 :\t2626\n",
      "C15 :\t8\n",
      "C16 :\t9\n",
      "C17 :\t435\n",
      "C18 :\t4\n",
      "C19 :\t68\n",
      "C20 :\t172\n",
      "C21 :\t60\n",
      "_id :\t40428967\n",
      "app_category :\t36\n",
      "app_domain :\t559\n",
      "app_id :\t8552\n",
      "banner_pos :\t7\n",
      "click :\t2\n",
      "device_conn_type :\t4\n",
      "device_id :\t2685699\n",
      "device_ip :\t6727799\n",
      "device_model :\t8251\n",
      "device_type :\t5\n",
      "hour :\t240\n",
      "id :\t40428967\n",
      "site_category :\t26\n",
      "site_domain :\t7745\n",
      "site_id :\t4736\n"
     ]
    }
   ],
   "source": [
    "for c in data.columns:\n",
    "    print c, ':\\t', data.select(c).distinct().count()"
   ]
  },
  {
   "cell_type": "code",
   "execution_count": 10,
   "metadata": {},
   "outputs": [
    {
     "name": "stdout",
     "output_type": "stream",
     "text": [
      "+-----------+--------+\n",
      "|device_type|   count|\n",
      "+-----------+--------+\n",
      "|          1|37304667|\n",
      "|          5|  129185|\n",
      "|          4|  774272|\n",
      "|          2|      31|\n",
      "|          0| 2220812|\n",
      "+-----------+--------+\n",
      "\n"
     ]
    }
   ],
   "source": [
    "data.groupBy(data['device_type']).count().show()"
   ]
  },
  {
   "cell_type": "code",
   "execution_count": null,
   "metadata": {},
   "outputs": [],
   "source": []
  },
  {
   "cell_type": "markdown",
   "metadata": {},
   "source": [
    "### feature"
   ]
  },
  {
   "cell_type": "code",
   "execution_count": 21,
   "metadata": {},
   "outputs": [],
   "source": [
    "import pyspark.sql.functions as F"
   ]
  },
  {
   "cell_type": "code",
   "execution_count": 33,
   "metadata": {},
   "outputs": [],
   "source": [
    "# extract the last 2 digits of 'hour' column\n",
    "data = data.withColumn('hh', (F.col('hour')%100))\n",
    "# extract the day of week info from 'hour' column\n",
    "data = data.withColumn('dow', (F.col('hour')/100-141019).cast('int')%7)\n",
    "# extract the first 3 digits of ip address\n",
    "data = data.withColumn('ip', \n",
    "                       F.conv(data.device_ip.substr(0,2),16,10).alias('deci').cast('int'))"
   ]
  },
  {
   "cell_type": "code",
   "execution_count": 35,
   "metadata": {},
   "outputs": [
    {
     "name": "stdout",
     "output_type": "stream",
     "text": [
      "+---+\n",
      "| hh|\n",
      "+---+\n",
      "| 12|\n",
      "| 22|\n",
      "|  1|\n",
      "| 13|\n",
      "|  6|\n",
      "| 16|\n",
      "|  3|\n",
      "| 20|\n",
      "|  5|\n",
      "| 19|\n",
      "| 15|\n",
      "|  9|\n",
      "| 17|\n",
      "|  4|\n",
      "|  8|\n",
      "| 23|\n",
      "|  7|\n",
      "| 10|\n",
      "| 21|\n",
      "| 11|\n",
      "+---+\n",
      "only showing top 20 rows\n",
      "\n"
     ]
    }
   ],
   "source": [
    "data.select('hh').distinct().show()"
   ]
  },
  {
   "cell_type": "code",
   "execution_count": 43,
   "metadata": {},
   "outputs": [
    {
     "name": "stdout",
     "output_type": "stream",
     "text": [
      "+---+\n",
      "|dow|\n",
      "+---+\n",
      "|  1|\n",
      "|  6|\n",
      "|  3|\n",
      "|  5|\n",
      "|  4|\n",
      "|  2|\n",
      "|  0|\n",
      "+---+\n",
      "\n"
     ]
    }
   ],
   "source": [
    "data.select('dow').distinct().show()"
   ]
  },
  {
   "cell_type": "code",
   "execution_count": 46,
   "metadata": {},
   "outputs": [
    {
     "name": "stdout",
     "output_type": "stream",
     "text": [
      "+---+\n",
      "| ip|\n",
      "+---+\n",
      "|232|\n",
      "|150|\n",
      "|  5|\n",
      "|150|\n",
      "|178|\n",
      "| 55|\n",
      "|230|\n",
      "|221|\n",
      "|179|\n",
      "|241|\n",
      "+---+\n",
      "only showing top 10 rows\n",
      "\n"
     ]
    }
   ],
   "source": [
    "data.withColumn('ip', F.conv(data.device_ip.substr(0,2),16,10).alias('deci').cast('int'))\\\n",
    "    .select('ip').show(10)"
   ]
  },
  {
   "cell_type": "code",
   "execution_count": null,
   "metadata": {},
   "outputs": [],
   "source": []
  },
  {
   "cell_type": "code",
   "execution_count": null,
   "metadata": {},
   "outputs": [],
   "source": []
  },
  {
   "cell_type": "code",
   "execution_count": 45,
   "metadata": {},
   "outputs": [
    {
     "name": "stdout",
     "output_type": "stream",
     "text": [
      "MongoDB storage size:\t4.62109375\n",
      "csv file storage size:\t5.876953125\n",
      "ratio:\t0.786258471921\n"
     ]
    }
   ],
   "source": [
    "print 'MongoDB storage size:\\t', 4962193408/1024/1024/1024.0\n",
    "print 'csv file storage size:\\t', 6311147778/1024/1024/1024.0\n",
    "print 'ratio:\\t', 4962193408/6311147778.0"
   ]
  },
  {
   "cell_type": "code",
   "execution_count": null,
   "metadata": {},
   "outputs": [],
   "source": []
  },
  {
   "cell_type": "code",
   "execution_count": null,
   "metadata": {},
   "outputs": [],
   "source": []
  },
  {
   "cell_type": "code",
   "execution_count": null,
   "metadata": {},
   "outputs": [],
   "source": []
  }
 ],
 "metadata": {
  "kernelspec": {
   "display_name": "Python 2",
   "language": "python",
   "name": "python2"
  },
  "language_info": {
   "codemirror_mode": {
    "name": "ipython",
    "version": 2
   },
   "file_extension": ".py",
   "mimetype": "text/x-python",
   "name": "python",
   "nbconvert_exporter": "python",
   "pygments_lexer": "ipython2",
   "version": "2.7.14"
  },
  "varInspector": {
   "cols": {
    "lenName": 16,
    "lenType": 16,
    "lenVar": 40
   },
   "kernels_config": {
    "python": {
     "delete_cmd_postfix": "",
     "delete_cmd_prefix": "del ",
     "library": "var_list.py",
     "varRefreshCmd": "print(var_dic_list())"
    },
    "r": {
     "delete_cmd_postfix": ") ",
     "delete_cmd_prefix": "rm(",
     "library": "var_list.r",
     "varRefreshCmd": "cat(var_dic_list()) "
    }
   },
   "types_to_exclude": [
    "module",
    "function",
    "builtin_function_or_method",
    "instance",
    "_Feature"
   ],
   "window_display": false
  }
 },
 "nbformat": 4,
 "nbformat_minor": 2
}
